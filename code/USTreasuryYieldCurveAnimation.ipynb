{
 "cells": [
  {
   "cell_type": "code",
   "execution_count": null,
   "metadata": {
    "collapsed": false
   },
   "outputs": [],
   "source": [
    "'''This program produces an mp4-format video of daily US Treasury yield curves for the US.'''\n",
    "import matplotlib\n",
    "matplotlib.use(\"Agg\")\n",
    "from fredpy import series\n",
    "import numpy as np\n",
    "import pandas as pd\n",
    "import matplotlib.pyplot as plt\n",
    "import matplotlib.animation as animation\n",
    "import os\n",
    "import time\n",
    "\n",
    "# Approximately when the program started\n",
    "startTime = time.time()"
   ]
  },
  {
   "cell_type": "code",
   "execution_count": null,
   "metadata": {
    "collapsed": true
   },
   "outputs": [],
   "source": [
    "# start date, end date, and name for the .mp4 and .ogv files\n",
    "startDate = '2010-01-01'\n",
    "endDate = '2500-01-01'\n",
    "fileName = 'USTreasuryYieldCurveAnimation10Present'"
   ]
  },
  {
   "cell_type": "code",
   "execution_count": null,
   "metadata": {
    "collapsed": false
   },
   "outputs": [],
   "source": [
    "# Create Fred objects\n",
    "y1m= series('DTB4WK')\n",
    "y3m= series('DTB3')\n",
    "y6m= series('DTB6')\n",
    "y1 = series('DGS1')\n",
    "y5 = series('DGS5')\n",
    "y10= series('DGS10')\n",
    "y20= series('DGS20')\n",
    "y30= series('DGS30')\n",
    "\n",
    "win = [startDate,endDate]\n",
    "for y in [y1m,y3m,y6m,y1,y5,y10,y20,y30]:\n",
    "    y.window(win)\n",
    "\n",
    "y1m = pd.DataFrame(y1m.data,index = y1m.datenumbers,columns=['1 mo'])\n",
    "y3m = pd.DataFrame(y3m.data,index = y3m.datenumbers,columns=['3 mo'])\n",
    "y6m = pd.DataFrame(y6m.data,index = y6m.datenumbers,columns=['6 mo'])\n",
    "y1 = pd.DataFrame(y1.data,index = y1.datenumbers,columns=['1 yr'])\n",
    "y5 = pd.DataFrame(y5.data,index = y5.datenumbers,columns=['5 yr'])\n",
    "y10 = pd.DataFrame(y10.data,index = y10.datenumbers,columns=['10 yr'])\n",
    "y20 = pd.DataFrame(y20.data,index = y20.datenumbers,columns=['20 yr'])\n",
    "y30 = pd.DataFrame(y30.data,index = y30.datenumbers,columns=['30 yr'])\n",
    "\n",
    "yields = pd.concat([y1m,y3m,y6m,y1,y5,y10,y20,y30],axis=1)\n",
    "yields = yields.dropna(thresh=1)\n",
    "N = len(yields.index)\n",
    "print('Date range: '+yields.index[0].to_datetime().strftime('%b %d, %Y')+' to '+yields.index[-1].to_datetime().strftime('%b %d, %Y'))"
   ]
  },
  {
   "cell_type": "code",
   "execution_count": null,
   "metadata": {
    "collapsed": false
   },
   "outputs": [],
   "source": [
    "# Initialize figure\n",
    "fig = plt.figure(figsize=(16,9))\n",
    "ax = fig.add_subplot(1, 1, 1)\n",
    "line, = ax.plot([], [], lw=8)\n",
    "ax.grid()\n",
    "\n",
    "ax.set_xlim(0,7)\n",
    "ax.set_ylim(0,18)\n",
    "\n",
    "ax.set_xticks(range(8))\n",
    "ax.set_yticks([2,4,6,8,10,12,14,16,18])\n",
    "\n",
    "xlabels = ['1m','3m','6m','1y','5y','10y','20y','30y']\n",
    "ylabels = [2,4,6,8,10,12,14,16,18]\n",
    "\n",
    "ax.set_xticklabels(xlabels,fontsize=20)\n",
    "ax.set_yticklabels(ylabels,fontsize=20)\n",
    "\n",
    "figure_title = 'U.S. Treasury Bond Yield Curve'\n",
    "figure_xlabel = 'Time to maturity'\n",
    "figure_ylabel = 'Percent'\n",
    "\n",
    "plt.text(0.5, 1.03, figure_title,horizontalalignment='center',fontsize=30,transform = ax.transAxes)\n",
    "plt.text(0.5, -.1, figure_xlabel,horizontalalignment='center',fontsize=25,transform = ax.transAxes)\n",
    "plt.text(-0.05, .5, figure_ylabel,horizontalalignment='center',fontsize=25,rotation='vertical',transform = ax.transAxes)\n",
    "\n",
    "ax.text(5.75,.25, 'Created by Brian C Jenkins',fontsize=11, color='black',alpha=0.5)#,\n",
    "dateText = ax.text(0.975, 16.625, '',fontsize=18,horizontalalignment='right')"
   ]
  },
  {
   "cell_type": "code",
   "execution_count": null,
   "metadata": {
    "collapsed": true
   },
   "outputs": [],
   "source": [
    "# Initialization function.\n",
    "def init_func():\n",
    "    line.set_data([], [])\n",
    "    return line,"
   ]
  },
  {
   "cell_type": "code",
   "execution_count": null,
   "metadata": {
    "collapsed": false
   },
   "outputs": [],
   "source": [
    "# The animation function.\n",
    "def animate(i):\n",
    "    global yields\n",
    "    x = [0,1,2,3,4,5,6,7]\n",
    "    y = yields.iloc[i]\n",
    "    line.set_data(x, y)\n",
    "    dateText.set_text(yields.index[i].to_datetime().strftime('%b %d, %Y'))\n",
    "    return line ,dateText"
   ]
  },
  {
   "cell_type": "code",
   "execution_count": null,
   "metadata": {
    "collapsed": true
   },
   "outputs": [],
   "source": [
    "# Set up the writer\n",
    "Writer = animation.writers['ffmpeg']\n",
    "writer = Writer(fps=25, metadata=dict(artist='Brian C Jenkins'), bitrate=3000)\n",
    "\n",
    "# Make the animation\n",
    "anim = animation.FuncAnimation(fig, animate, init_func=init_func,frames=N, interval=20, blit=True)"
   ]
  },
  {
   "cell_type": "code",
   "execution_count": null,
   "metadata": {
    "collapsed": false
   },
   "outputs": [],
   "source": [
    "# Save the animation as .mp4\n",
    "anim.save(fileName+'.mp4', writer = writer)"
   ]
  },
  {
   "cell_type": "code",
   "execution_count": null,
   "metadata": {
    "collapsed": false,
    "scrolled": true
   },
   "outputs": [],
   "source": [
    "# Convert the .mp4 to .ogv\n",
    "os.system('ffmpeg -i '+fileName+'.mp4 -acodec libvorbis -ac 2 -ab 128k -ar 44100 -b:v 1800k  '+fileName+'.ogv')"
   ]
  },
  {
   "cell_type": "code",
   "execution_count": null,
   "metadata": {
    "collapsed": false
   },
   "outputs": [],
   "source": [
    "# Print runtime\n",
    "seconds = time.time() - startTime\n",
    "m, s = divmod(seconds, 60)\n",
    "h, m = divmod(m, 60)\n",
    "print(\"%dh %02dm %02ds\"% (h, m, s))"
   ]
  }
 ],
 "metadata": {
  "kernelspec": {
   "display_name": "Python 3",
   "language": "python",
   "name": "python3"
  },
  "language_info": {
   "codemirror_mode": {
    "name": "ipython",
    "version": 3
   },
   "file_extension": ".py",
   "mimetype": "text/x-python",
   "name": "python",
   "nbconvert_exporter": "python",
   "pygments_lexer": "ipython3",
   "version": "3.4.3"
  }
 },
 "nbformat": 4,
 "nbformat_minor": 0
}
